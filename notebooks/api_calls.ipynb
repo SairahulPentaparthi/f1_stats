{
 "cells": [
  {
   "cell_type": "markdown",
   "metadata": {},
   "source": [
    "# api_calls.ipynb\n",
    "\n",
    "The purpose of this notebook is to test API requests sent to the Ergast API. Documentation can be found at https://ergast.com/mrd/"
   ]
  },
  {
   "cell_type": "code",
   "execution_count": 1,
   "metadata": {},
   "outputs": [],
   "source": [
    "# Import libraries\n",
    "import json\n",
    "import pprint\n",
    "import time\n",
    "\n",
    "import requests"
   ]
  },
  {
   "cell_type": "code",
   "execution_count": null,
   "metadata": {},
   "outputs": [],
   "source": [
    "# Test data download\n",
    "# f1_2018_races_url = \"http://ergast.com/api/f1/2018.json\"\n",
    "# f1_2018_races = requests.get(f1_2018_races_url).json()\n",
    "# pprint.pprint(f1_2018_races)\n",
    "\n",
    "def download_data(base_url, number_of_rounds, session_name, season = 2010, basepath = \"/home/ezhou/Documents/dataset/\"):\n",
    "    for round in range(1, number_of_rounds + 1):\n",
    "        current_round_data_url = base_url.format(round)\n",
    "        current_round_data = requests.get(current_round_data_url).json()\n",
    "        filename = \"{}{}_{}_{}.json\".format(basepath, season, round, session_name)\n",
    "        print(filename)\n",
    "        with open(filename, 'w') as f:\n",
    "            json.dump(current_round_data, f)\n",
    "        time.sleep(5) #For minimizing load on API servers\n",
    "\n",
    "\n",
    "def download_2010_data():\n",
    "    qualy_url_api = \"http://ergast.com/api/f1/2010/{}/qualifying.json\"\n",
    "    race_url_api = \"http://ergast.com/api/f1/2010/{}/results.json\"\n",
    "    number_of_rounds = 19\n",
    "    print(\"Download qualy 2010 >>>\")\n",
    "    download_data(qualy_url_api, number_of_rounds, \"qualy\")\n",
    "    print(\"Download race 2010 >>>\")\n",
    "    download_data(race_url_api, number_of_rounds, \"race\")"
   ]
  }
 ],
 "metadata": {
  "kernelspec": {
   "display_name": "Python 3",
   "language": "python",
   "name": "python3"
  },
  "language_info": {
   "codemirror_mode": {
    "name": "ipython",
    "version": 3
   },
   "file_extension": ".py",
   "mimetype": "text/x-python",
   "name": "python",
   "nbconvert_exporter": "python",
   "pygments_lexer": "ipython3",
   "version": "3.7.4"
  }
 },
 "nbformat": 4,
 "nbformat_minor": 2
}
